{
 "cells": [
  {
   "cell_type": "markdown",
   "id": "0ae6ae1e-4ba9-4f33-a933-86354f863a3e",
   "metadata": {
    "tags": []
   },
   "source": [
    "# H1:Data Science Tools and Ecosystem"
   ]
  },
  {
   "cell_type": "markdown",
   "id": "d302ff39-9f5b-471d-a71c-37792db097d8",
   "metadata": {},
   "source": [
    "In this notebook, Data Science Tools and Ecosystems are summarized"
   ]
  },
  {
   "cell_type": "markdown",
   "id": "e87304ae-b107-4d81-a34b-a41d8753fa31",
   "metadata": {},
   "source": [
    "<u>**Objectives**: the following will be covered in this notebook</u>\n",
    "- Languages for Data Science\n",
    "- Libraries used in Data Science\n",
    "- Data Science tools\n",
    "- Arithmetics with python"
   ]
  },
  {
   "cell_type": "markdown",
   "id": "21be040b-dfac-4b04-be91-425877f6357e",
   "metadata": {},
   "source": [
    "some popular languages used for data science are:\n",
    "1. Python\n",
    "2. R\n",
    "3. SQL\n",
    "4. Java\n",
    "5. C++"
   ]
  },
  {
   "cell_type": "markdown",
   "id": "74b74e3e-e44c-4925-911d-c9e3151c9f0a",
   "metadata": {},
   "source": [
    "some commonly used libraries in data science are:\n",
    "1. Scikit-learn\n",
    "2. Seaborn\n",
    "3. NumPy\n",
    "4. Keras"
   ]
  },
  {
   "cell_type": "markdown",
   "id": "0a51bd75-b992-4cf6-b8de-5f2f9db48d65",
   "metadata": {},
   "source": [
    "|Data Science Toools|\n",
    "|-------------------|\n",
    "|Jupiter notebook|\n",
    "|Rstudio|\n",
    "|Python|\n",
    "|Git|"
   ]
  },
  {
   "cell_type": "markdown",
   "id": "42c89d1a-7f1e-47b8-aecb-63d509ff92f9",
   "metadata": {},
   "source": [
    "### H3: The following lines of codes will be evaluating a few arithmetic opperations in python"
   ]
  },
  {
   "cell_type": "code",
   "execution_count": 2,
   "id": "f7fb0415-77af-465d-9791-cf1588eb4acb",
   "metadata": {},
   "outputs": [
    {
     "data": {
      "text/plain": [
       "17"
      ]
     },
     "execution_count": 2,
     "metadata": {},
     "output_type": "execute_result"
    }
   ],
   "source": [
    "#this line of code performs an arithmetic operation which multiplies and adds integers\n",
    "(3*4)+5"
   ]
  },
  {
   "cell_type": "code",
   "execution_count": 9,
   "id": "9b611392-a249-43cd-8d6e-b2cec0838f0a",
   "metadata": {},
   "outputs": [
    {
     "name": "stdout",
     "output_type": "stream",
     "text": [
      "3.3333333333333335 hours\n"
     ]
    }
   ],
   "source": [
    "#This line of cose converts 200 minutes to hours by dividing by 60\n",
    "time=(200/60)\n",
    "print( time, 'hours' )\n"
   ]
  },
  {
   "cell_type": "markdown",
   "id": "80b1aeac-dd43-4c28-97ef-59a6820b0d3c",
   "metadata": {},
   "source": [
    "## H2 Author\n",
    "Fred Meinrad Fopossi "
   ]
  }
 ],
 "metadata": {
  "kernelspec": {
   "display_name": "Python 3 (ipykernel)",
   "language": "python",
   "name": "python3"
  },
  "language_info": {
   "codemirror_mode": {
    "name": "ipython",
    "version": 3
   },
   "file_extension": ".py",
   "mimetype": "text/x-python",
   "name": "python",
   "nbconvert_exporter": "python",
   "pygments_lexer": "ipython3",
   "version": "3.9.13"
  }
 },
 "nbformat": 4,
 "nbformat_minor": 5
}
